{
 "cells": [
  {
   "cell_type": "markdown",
   "metadata": {},
   "source": [
    "## Imports"
   ]
  },
  {
   "cell_type": "code",
   "execution_count": 19,
   "metadata": {},
   "outputs": [],
   "source": [
    "import numpy as np\n",
    "import tensorflow as tf\n",
    "import keras\n",
    "import matplotlib.pyplot as plt\n",
    "from keras.preprocessing.image import ImageDataGenerator\n",
    "from keras.models import Sequential\n",
    "from keras.layers import Input, Dense, Activation, Dropout, Flatten,\\\n",
    "                         Conv2D, MaxPooling2D, AveragePooling2D, GlobalAveragePooling2D,\\\n",
    "                         UpSampling2D\n",
    "from keras.layers.normalization import BatchNormalization\n",
    "from keras import regularizers\n",
    "from keras import optimizers\n",
    "from keras import callbacks\n",
    "from sklearn.metrics import classification_report, confusion_matrix\n",
    "import pathlib\n",
    "import splitfolders\n",
    "\n",
    "def plot_confusion_matrix(y_true, y_pred, classes,\n",
    "                          cmap=plt.cm.YlGn):\n",
    "    title=\"Confusion Matrix\"\n",
    "\n",
    "    cm = confusion_matrix(y_true, y_pred)\n",
    "    classes = classes\n",
    "\n",
    "    fig, ax = plt.subplots()\n",
    "    im = ax.imshow(cm, interpolation='nearest', cmap=cmap)\n",
    "    ax.figure.colorbar(im, ax=ax)\n",
    "\n",
    "    ax.set(xticks=np.arange(cm.shape[1]),\n",
    "           yticks=np.arange(cm.shape[0]),\n",
    "           xticklabels=classes, yticklabels=classes,\n",
    "           title=title,\n",
    "           ylabel='True label',\n",
    "           xlabel='Predicted label')\n",
    "\n",
    "    ax.set_ylim(len(classes)-0.5, -0.5)\n",
    "\n",
    "    plt.setp(ax.get_xticklabels(), rotation=28, ha=\"right\",rotation_mode=\"anchor\")\n",
    "\n",
    "    fmt = 'd'\n",
    "    thresh = cm.max() / 2.\n",
    "    for i in range(cm.shape[0]):\n",
    "        for j in range(cm.shape[1]):\n",
    "            ax.text(j, i, format(cm[i, j], fmt),\n",
    "                    ha=\"center\", va=\"center\",\n",
    "                    color=\"white\" if cm[i, j] > thresh else \"black\")\n",
    "    fig.tight_layout()\n",
    "    return ax\n"
   ]
  },
  {
   "cell_type": "markdown",
   "metadata": {},
   "source": [
    "## Dataset Load"
   ]
  },
  {
   "cell_type": "code",
   "execution_count": 20,
   "metadata": {},
   "outputs": [
    {
     "name": "stdout",
     "output_type": "stream",
     "text": [
      "Found 6259 images belonging to 8 classes.\n",
      "Found 1338 images belonging to 8 classes.\n",
      "Image input (160, 200, 3)\n",
      "Classes: ['Carpet_Cleaners', 'Figs', 'Forks', 'Oatmeal_box', 'Puffed_Snacks', 'Sports_Drinking_Water', 'decorative_tray', 'pasta_bowl']\n"
     ]
    }
   ],
   "source": [
    "dataset_dir=pathlib.Path('output/')\n",
    "\n",
    "batch_size=32\n",
    "img_height=160\n",
    "img_width=200\n",
    "\n",
    "train_datagen = ImageDataGenerator(\n",
    "    rescale = 1. / 255,\\\n",
    "    zoom_range=0.1,\\\n",
    "    rotation_range=10,\\\n",
    "    width_shift_range=0.1,\\\n",
    "    height_shift_range=0.1,\\\n",
    "    horizontal_flip=True,\\\n",
    "    vertical_flip=False)\n",
    "\n",
    "train_dir=pathlib.Path('output/train/')\n",
    "val_dir=pathlib.Path('output/val/')\n",
    "\n",
    "train_generator = train_datagen.flow_from_directory(\n",
    "    directory=train_dir,\n",
    "    target_size=(img_height, img_width),\n",
    "    color_mode=\"rgb\",\n",
    "    batch_size=batch_size,\n",
    "    class_mode=\"categorical\",\n",
    "    shuffle=True,\n",
    ")\n",
    "\n",
    "test_datagen = ImageDataGenerator(\n",
    "    rescale = 1. / 255)\n",
    "\n",
    "test_generator = test_datagen.flow_from_directory(\n",
    "    directory=val_dir,\n",
    "    target_size=(img_height, img_width),\n",
    "    color_mode=\"rgb\",\n",
    "    batch_size=batch_size,\n",
    "    class_mode=\"categorical\",\n",
    "    shuffle=False,\n",
    ")\n",
    "\n",
    "num_samples = train_generator.n\n",
    "num_classes = train_generator.num_classes\n",
    "input_shape = train_generator.image_shape\n",
    "\n",
    "classnames = [k for k,v in train_generator.class_indices.items()]\n",
    "\n",
    "print(\"Image input %s\" %str(input_shape))\n",
    "print(\"Classes: %r\" %classnames)"
   ]
  },
  {
   "cell_type": "markdown",
   "metadata": {},
   "source": [
    "## Load VGG16 pre-trained"
   ]
  },
  {
   "cell_type": "code",
   "execution_count": 21,
   "metadata": {},
   "outputs": [
    {
     "name": "stdout",
     "output_type": "stream",
     "text": [
      "Model: \"vgg16_features\"\n",
      "_________________________________________________________________\n",
      "Layer (type)                 Output Shape              Param #   \n",
      "=================================================================\n",
      "input_6 (InputLayer)         [(None, 160, 200, 3)]     0         \n",
      "_________________________________________________________________\n",
      "block1_conv1 (Conv2D)        (None, 160, 200, 64)      1792      \n",
      "_________________________________________________________________\n",
      "block1_conv2 (Conv2D)        (None, 160, 200, 64)      36928     \n",
      "_________________________________________________________________\n",
      "block1_pool (MaxPooling2D)   (None, 80, 100, 64)       0         \n",
      "_________________________________________________________________\n",
      "block2_conv1 (Conv2D)        (None, 80, 100, 128)      73856     \n",
      "_________________________________________________________________\n",
      "block2_conv2 (Conv2D)        (None, 80, 100, 128)      147584    \n",
      "_________________________________________________________________\n",
      "block2_pool (MaxPooling2D)   (None, 40, 50, 128)       0         \n",
      "_________________________________________________________________\n",
      "block3_conv1 (Conv2D)        (None, 40, 50, 256)       295168    \n",
      "_________________________________________________________________\n",
      "block3_conv2 (Conv2D)        (None, 40, 50, 256)       590080    \n",
      "_________________________________________________________________\n",
      "block3_conv3 (Conv2D)        (None, 40, 50, 256)       590080    \n",
      "_________________________________________________________________\n",
      "block3_pool (MaxPooling2D)   (None, 20, 25, 256)       0         \n",
      "_________________________________________________________________\n",
      "block4_conv1 (Conv2D)        (None, 20, 25, 512)       1180160   \n",
      "_________________________________________________________________\n",
      "block4_conv2 (Conv2D)        (None, 20, 25, 512)       2359808   \n",
      "_________________________________________________________________\n",
      "block4_conv3 (Conv2D)        (None, 20, 25, 512)       2359808   \n",
      "_________________________________________________________________\n",
      "block4_pool (MaxPooling2D)   (None, 10, 12, 512)       0         \n",
      "_________________________________________________________________\n",
      "block5_conv1 (Conv2D)        (None, 10, 12, 512)       2359808   \n",
      "_________________________________________________________________\n",
      "block5_conv2 (Conv2D)        (None, 10, 12, 512)       2359808   \n",
      "_________________________________________________________________\n",
      "block5_conv3 (Conv2D)        (None, 10, 12, 512)       2359808   \n",
      "_________________________________________________________________\n",
      "block5_pool (MaxPooling2D)   (None, 5, 6, 512)         0         \n",
      "=================================================================\n",
      "Total params: 14,714,688\n",
      "Trainable params: 14,714,688\n",
      "Non-trainable params: 0\n",
      "_________________________________________________________________\n"
     ]
    }
   ],
   "source": [
    "def load_vgg16_features(input_shape, init_weights=None):\n",
    "    \n",
    "    #input tensor\n",
    "    input0 = Input(shape=input_shape)\n",
    "\n",
    "    # load VGG16 model without the final dense layers \n",
    "    vgg16_model = keras.applications.vgg16.VGG16(include_top=False, weights=init_weights, input_tensor=input0)\n",
    "    \n",
    "    feature_extractor = keras.models.Model(inputs=input0, outputs=vgg16_model.output, name=\"vgg16_features\")\n",
    "\n",
    "    optimizer = 'adam' \n",
    "\n",
    "    feature_extractor.compile(loss=keras.losses.categorical_crossentropy, optimizer=optimizer, metrics=['accuracy'])\n",
    "\n",
    "    return feature_extractor\n",
    "\n",
    "vgg16feat_model = load_vgg16_features(input_shape)\n",
    "vgg16feat_model.summary()"
   ]
  },
  {
   "cell_type": "markdown",
   "metadata": {},
   "source": [
    "## Transfer-Net"
   ]
  },
  {
   "cell_type": "code",
   "execution_count": 22,
   "metadata": {
    "scrolled": true
   },
   "outputs": [
    {
     "name": "stdout",
     "output_type": "stream",
     "text": [
      "Model: \"transferNet\"\n",
      "_________________________________________________________________\n",
      "Layer (type)                 Output Shape              Param #   \n",
      "=================================================================\n",
      "input_7 (InputLayer)         [(None, 160, 200, 3)]     0         \n",
      "_________________________________________________________________\n",
      "block1_conv1 (Conv2D)        (None, 160, 200, 64)      1792      \n",
      "_________________________________________________________________\n",
      "block1_conv2 (Conv2D)        (None, 160, 200, 64)      36928     \n",
      "_________________________________________________________________\n",
      "block1_pool (MaxPooling2D)   (None, 80, 100, 64)       0         \n",
      "_________________________________________________________________\n",
      "block2_conv1 (Conv2D)        (None, 80, 100, 128)      73856     \n",
      "_________________________________________________________________\n",
      "block2_conv2 (Conv2D)        (None, 80, 100, 128)      147584    \n",
      "_________________________________________________________________\n",
      "block2_pool (MaxPooling2D)   (None, 40, 50, 128)       0         \n",
      "_________________________________________________________________\n",
      "block3_conv1 (Conv2D)        (None, 40, 50, 256)       295168    \n",
      "_________________________________________________________________\n",
      "block3_conv2 (Conv2D)        (None, 40, 50, 256)       590080    \n",
      "_________________________________________________________________\n",
      "block3_conv3 (Conv2D)        (None, 40, 50, 256)       590080    \n",
      "_________________________________________________________________\n",
      "block3_pool (MaxPooling2D)   (None, 20, 25, 256)       0         \n",
      "_________________________________________________________________\n",
      "block4_conv1 (Conv2D)        (None, 20, 25, 512)       1180160   \n",
      "_________________________________________________________________\n",
      "block4_conv2 (Conv2D)        (None, 20, 25, 512)       2359808   \n",
      "_________________________________________________________________\n",
      "block4_conv3 (Conv2D)        (None, 20, 25, 512)       2359808   \n",
      "_________________________________________________________________\n",
      "block4_pool (MaxPooling2D)   (None, 10, 12, 512)       0         \n",
      "_________________________________________________________________\n",
      "block5_conv1 (Conv2D)        (None, 10, 12, 512)       2359808   \n",
      "_________________________________________________________________\n",
      "block5_conv2 (Conv2D)        (None, 10, 12, 512)       2359808   \n",
      "_________________________________________________________________\n",
      "block5_conv3 (Conv2D)        (None, 10, 12, 512)       2359808   \n",
      "_________________________________________________________________\n",
      "block5_pool (MaxPooling2D)   (None, 5, 6, 512)         0         \n",
      "_________________________________________________________________\n",
      "flatten_3 (Flatten)          (None, 15360)             0         \n",
      "_________________________________________________________________\n",
      "batch_normalization_12 (Batc (None, 15360)             61440     \n",
      "_________________________________________________________________\n",
      "dropout_6 (Dropout)          (None, 15360)             0         \n",
      "_________________________________________________________________\n",
      "dense_9 (Dense)              (None, 128)               1966208   \n",
      "_________________________________________________________________\n",
      "batch_normalization_13 (Batc (None, 128)               512       \n",
      "_________________________________________________________________\n",
      "dropout_7 (Dropout)          (None, 128)               0         \n",
      "_________________________________________________________________\n",
      "dense_10 (Dense)             (None, 92)                11868     \n",
      "_________________________________________________________________\n",
      "batch_normalization_14 (Batc (None, 92)                368       \n",
      "_________________________________________________________________\n",
      "batch_normalization_15 (Batc (None, 92)                368       \n",
      "_________________________________________________________________\n",
      "dense_11 (Dense)             (None, 8)                 744       \n",
      "=================================================================\n",
      "Total params: 16,756,196\n",
      "Trainable params: 4,369,972\n",
      "Non-trainable params: 12,386,224\n",
      "_________________________________________________________________\n"
     ]
    }
   ],
   "source": [
    "def transferNet(input_shape, num_classes, output_layer_name, trainable_layers):\n",
    "    \n",
    "    # load the pre-trained model with the weight computed with imagenet\n",
    "    feature_extractor = load_vgg16_features(input_shape, init_weights='imagenet')\n",
    "\n",
    "    # original input layer tensor\n",
    "    input_t = feature_extractor.get_layer(index=0).input\n",
    "\n",
    "    # set the feture extractor layers as non-trainable\n",
    "    for idx,layer in enumerate(feature_extractor.layers):\n",
    "      if layer.name in trainable_layers:\n",
    "        layer.trainable = True\n",
    "      else:\n",
    "        layer.trainable = False\n",
    "\n",
    "    # get the output tensor from a layer of the feature extractor\n",
    "    output_extractor = feature_extractor.get_layer(name = output_layer_name).output\n",
    "    \n",
    "    #output_extractor = MaxPooling2D(pool_size=(4,4))(output_extractor)\n",
    "\n",
    "    # flat the output of a Conv layer\n",
    "    flatten = Flatten()(output_extractor) \n",
    "    flatten_norm = BatchNormalization()(flatten)\n",
    "\n",
    "    # add a Dense layer\n",
    "    dense1 = Dropout(0.4)(flatten_norm)\n",
    "    dense1 = Dense(128, activation='relu')(dense1)\n",
    "    dense1 = BatchNormalization()(dense1)\n",
    "    \n",
    "    # add a Dense layer\n",
    "    dense2 = Dropout(0.4)(dense1)\n",
    "    dense2 = Dense(92, activation='relu')(dense2)\n",
    "    dense2 = BatchNormalization()(dense2)\n",
    "\n",
    "    # add the final output layer\n",
    "    dense3 = BatchNormalization()(dense2)\n",
    "    dense3 = Dense(num_classes, activation='softmax')(dense3)\n",
    "    \n",
    "    model = keras.models.Model(inputs=input_t, outputs=dense3, name=\"transferNet\")\n",
    "    \n",
    "    optimizer = 'adam' \n",
    "    model.compile(loss=keras.losses.categorical_crossentropy, optimizer=optimizer, metrics=['accuracy'])\n",
    "\n",
    "    return model\n",
    "\n",
    "\n",
    "\n",
    "# layer from which you can get the features  \n",
    "name_output_extractor = \"block5_pool\"\n",
    "#we train only the last layer\n",
    "trainable_layers = [\"block5_conv3\"]\n",
    "\n",
    "# build the transfer model\n",
    "transfer_model = transferNet(input_shape, num_classes, name_output_extractor, trainable_layers)\n",
    "transfer_model.summary()"
   ]
  },
  {
   "cell_type": "markdown",
   "metadata": {},
   "source": [
    "## Training the new model"
   ]
  },
  {
   "cell_type": "code",
   "execution_count": 8,
   "metadata": {},
   "outputs": [
    {
     "name": "stdout",
     "output_type": "stream",
     "text": [
      "Epoch 1/25\n",
      "195/195 [==============================] - 1284s 7s/step - loss: 1.1532 - accuracy: 0.6082 - val_loss: 0.8285 - val_accuracy: 0.7152\n",
      "Epoch 2/25\n",
      "195/195 [==============================] - 1265s 6s/step - loss: 0.8334 - accuracy: 0.7169 - val_loss: 0.7796 - val_accuracy: 0.7339\n",
      "Epoch 3/25\n",
      "195/195 [==============================] - 1270s 7s/step - loss: 0.7283 - accuracy: 0.7532 - val_loss: 0.6452 - val_accuracy: 0.7892\n",
      "Epoch 4/25\n",
      "195/195 [==============================] - 1269s 7s/step - loss: 0.6450 - accuracy: 0.7784 - val_loss: 0.6370 - val_accuracy: 0.7975\n",
      "Epoch 5/25\n",
      "195/195 [==============================] - 1270s 7s/step - loss: 0.5898 - accuracy: 0.7997 - val_loss: 0.6538 - val_accuracy: 0.7900\n",
      "Epoch 6/25\n",
      "195/195 [==============================] - 1269s 7s/step - loss: 0.5651 - accuracy: 0.8110 - val_loss: 0.6119 - val_accuracy: 0.7997\n",
      "Epoch 7/25\n",
      "195/195 [==============================] - 1262s 6s/step - loss: 0.5285 - accuracy: 0.8187 - val_loss: 0.6220 - val_accuracy: 0.7990\n",
      "Epoch 8/25\n",
      "195/195 [==============================] - 1259s 6s/step - loss: 0.4768 - accuracy: 0.8412 - val_loss: 0.5764 - val_accuracy: 0.8109\n",
      "Epoch 9/25\n",
      "195/195 [==============================] - 1256s 6s/step - loss: 0.4831 - accuracy: 0.8391 - val_loss: 0.5732 - val_accuracy: 0.8236\n",
      "Epoch 10/25\n",
      "195/195 [==============================] - 1252s 6s/step - loss: 0.4321 - accuracy: 0.8521 - val_loss: 0.5911 - val_accuracy: 0.8169\n",
      "Epoch 11/25\n",
      "195/195 [==============================] - 1255s 6s/step - loss: 0.4174 - accuracy: 0.8611 - val_loss: 0.5796 - val_accuracy: 0.8244\n",
      "Epoch 12/25\n",
      "195/195 [==============================] - 1254s 6s/step - loss: 0.4141 - accuracy: 0.8585 - val_loss: 0.5762 - val_accuracy: 0.8251\n",
      "Epoch 13/25\n",
      "195/195 [==============================] - 1251s 6s/step - loss: 0.3926 - accuracy: 0.8706 - val_loss: 0.6276 - val_accuracy: 0.8146\n",
      "Epoch 14/25\n",
      "195/195 [==============================] - 1252s 6s/step - loss: 0.3738 - accuracy: 0.8691 - val_loss: 0.6080 - val_accuracy: 0.8176\n",
      "Epoch 15/25\n",
      "195/195 [==============================] - 1252s 6s/step - loss: 0.3493 - accuracy: 0.8824 - val_loss: 0.6446 - val_accuracy: 0.8072\n",
      "Epoch 16/25\n",
      "195/195 [==============================] - 1250s 6s/step - loss: 0.3578 - accuracy: 0.8735 - val_loss: 0.5987 - val_accuracy: 0.8064\n",
      "Epoch 17/25\n",
      "195/195 [==============================] - 1255s 6s/step - loss: 0.3452 - accuracy: 0.8794 - val_loss: 0.6610 - val_accuracy: 0.8012\n"
     ]
    }
   ],
   "source": [
    "stopping = callbacks.EarlyStopping(monitor='val_accuracy', patience=5)\n",
    "\n",
    "steps_per_epoch = train_generator.n//train_generator.batch_size\n",
    "val_steps = test_generator.n//test_generator.batch_size+1\n",
    "\n",
    "epochs = 25\n",
    "try:\n",
    "    transfer_history = transfer_model.fit(train_generator, epochs=epochs, verbose=1, callbacks=[stopping],\\\n",
    "                    steps_per_epoch=steps_per_epoch,\\\n",
    "                    validation_data=test_generator,\\\n",
    "                    validation_steps=val_steps)\n",
    "except KeyboardInterrupt:\n",
    "    pass\n"
   ]
  },
  {
   "cell_type": "markdown",
   "metadata": {},
   "source": [
    "## Save the model"
   ]
  },
  {
   "cell_type": "code",
   "execution_count": 9,
   "metadata": {},
   "outputs": [
    {
     "name": "stdout",
     "output_type": "stream",
     "text": [
      "\n",
      "Model saved successfully on file ./Models/HW2_2_transfer_17epoc.h5\n",
      "\n",
      "\n",
      "Hystory saved on file ./Models/Hw2_2_transfer_17epoc.hist\n",
      "\n"
     ]
    }
   ],
   "source": [
    "import os\n",
    "import pickle\n",
    "\n",
    "models_dir='./Models/'\n",
    "\n",
    "def savemodel(model,problem):\n",
    "    filename = os.path.join(models_dir, '%s.h5' %problem)\n",
    "    model.save(filename)\n",
    "    print(\"\\nModel saved successfully on file %s\\n\" %filename)\n",
    "    \n",
    "def savehistory(history,problem):\n",
    "    filename = os.path.join(models_dir, '%s.hist' %problem)\n",
    "    with open(filename, 'wb') as f:\n",
    "        pickle.dump(history.history, f, pickle.HIGHEST_PROTOCOL)\n",
    "    print(\"\\nHystory saved on file %s\\n\" %filename)\n",
    "\n",
    "# Save the model\n",
    "savemodel(transfer_model,'HW2_2_transfer_17epoc')\n",
    "savehistory(transfer_history,'Hw2_2_transfer_17epoc')\n"
   ]
  },
  {
   "cell_type": "markdown",
   "metadata": {},
   "source": [
    "## Plots"
   ]
  },
  {
   "cell_type": "code",
   "execution_count": 10,
   "metadata": {},
   "outputs": [
    {
     "data": {
      "image/png": "[encoded data removed]",
      "text/plain": [
       "<Figure size 432x288 with 1 Axes>"
      ]
     },
     "metadata": {
      "needs_background": "light"
     },
     "output_type": "display_data"
    },
    {
     "data": {
      "image/png": "[encoded data removed]",
      "text/plain": [
       "<Figure size 432x288 with 1 Axes>"
      ]
     },
     "metadata": {
      "needs_background": "light"
     },
     "output_type": "display_data"
    }
   ],
   "source": [
    "def plot_history(history,name):\n",
    "\n",
    "    # summarize history for accuracy\n",
    "    plt.plot(history.history['accuracy'])\n",
    "    plt.plot(history.history['val_accuracy'])\n",
    "    plt.title(name + ' accuracy')\n",
    "    plt.ylabel('accuracy')\n",
    "    plt.xlabel('epoch')\n",
    "    plt.ylim(0.8,1.0)\n",
    "    plt.legend(['train', 'test'], loc='upper left')\n",
    "    plt.show()\n",
    "    # summarize history for loss\n",
    "    plt.plot(history.history['loss'])\n",
    "    plt.plot(history.history['val_loss'])\n",
    "    plt.title(name + ' loss')\n",
    "    plt.ylabel('loss')\n",
    "    plt.xlabel('epoch')\n",
    "    plt.ylim(0.0,1.0)\n",
    "    plt.legend(['train', 'test'], loc='upper left')\n",
    "    plt.show()\n",
    "    \n",
    "name=\"TransferNet\"\n",
    "plot_history(transfer_history, name)"
   ]
  },
  {
   "cell_type": "markdown",
   "metadata": {},
   "source": [
    "## Evaluate"
   ]
  },
  {
   "cell_type": "code",
   "execution_count": 12,
   "metadata": {},
   "outputs": [
    {
     "name": "stdout",
     "output_type": "stream",
     "text": [
      "Found 1352 images belonging to 8 classes.\n",
      "43/43 [==============================] - 247s 6s/step - loss: 0.6583 - accuracy: 0.8143\n",
      "Test loss: 0.658250\n",
      "Test accuracy: 0.814349\n"
     ]
    }
   ],
   "source": [
    "test_dir=pathlib.Path('output/test')\n",
    "\n",
    "test_generator = test_datagen.flow_from_directory(\n",
    "    directory=test_dir,\n",
    "    target_size=(img_height, img_width),\n",
    "    color_mode=\"rgb\",\n",
    "    batch_size=batch_size,\n",
    "    class_mode=\"categorical\",\n",
    "    shuffle=False,\n",
    ")\n",
    "\n",
    "val_steps=test_generator.n//test_generator.batch_size+1\n",
    "loss, acc = transfer_model.evaluate(test_generator,verbose=1,steps=val_steps)\n",
    "print('Test loss: %f' %loss)\n",
    "print('Test accuracy: %f' %acc)"
   ]
  },
  {
   "cell_type": "markdown",
   "metadata": {},
   "source": [
    "## Classification Report and Confusion Matrix"
   ]
  },
  {
   "cell_type": "code",
   "execution_count": 13,
   "metadata": {},
   "outputs": [
    {
     "name": "stdout",
     "output_type": "stream",
     "text": [
      "Found 1352 images belonging to 8 classes.\n",
      "43/43 [==============================] - 218s 5s/step\n",
      "                       precision    recall  f1-score   support\n",
      "\n",
      "      Carpet_Cleaners      0.825     0.830     0.828       159\n",
      "                 Figs      0.770     0.906     0.832       159\n",
      "                Forks      0.916     0.766     0.834       184\n",
      "          Oatmeal_box      0.642     0.720     0.679       157\n",
      "        Puffed_Snacks      0.872     0.711     0.783       173\n",
      "Sports_Drinking_Water      0.895     0.890     0.892       172\n",
      "      decorative_tray      0.726     0.885     0.798       174\n",
      "           pasta_bowl      0.934     0.810     0.868       174\n",
      "\n",
      "             accuracy                          0.814      1352\n",
      "            macro avg      0.822     0.815     0.814      1352\n",
      "         weighted avg      0.826     0.814     0.816      1352\n",
      "\n",
      "True                 Predicted         \terrors \terr % \n",
      "------------------------------------------------------------------\n",
      "pasta_bowl       ->  decorative_tray   \t24 \t1.78 % \n",
      "Puffed_Snacks    ->  Oatmeal_box       \t23 \t1.70 % \n",
      "Oatmeal_box      ->  decorative_tray   \t16 \t1.18 % \n",
      "Puffed_Snacks    ->  Figs              \t16 \t1.18 % \n",
      "Forks            ->  Carpet_Cleaners   \t14 \t1.04 % \n",
      "Carpet_Cleaners  ->  Oatmeal_box       \t14 \t1.04 % \n",
      "Oatmeal_box      ->  Figs              \t12 \t0.89 % \n",
      "Forks            ->  decorative_tray   \t9 \t0.67 % \n",
      "Forks            ->  Oatmeal_box       \t9 \t0.67 % \n",
      "Sports_Drinking_Water ->  Oatmeal_box       \t8 \t0.59 % \n",
      "Carpet_Cleaners  ->  Sports_Drinking_Water  \t7 \t0.52 % \n",
      "Figs             ->  Puffed_Snacks     \t7 \t0.52 % \n",
      "decorative_tray  ->  pasta_bowl        \t7 \t0.52 % \n",
      "Forks            ->  Figs              \t6 \t0.44 % \n",
      "Oatmeal_box      ->  Carpet_Cleaners   \t6 \t0.44 % \n",
      "Oatmeal_box      ->  Puffed_Snacks     \t6 \t0.44 % \n",
      "Sports_Drinking_Water ->  Carpet_Cleaners   \t5 \t0.37 % \n",
      "decorative_tray  ->  Oatmeal_box       \t5 \t0.37 % \n",
      "Puffed_Snacks    ->  decorative_tray   \t5 \t0.37 % \n",
      "pasta_bowl       ->  Figs              \t4 \t0.30 % \n",
      "Forks            ->  Sports_Drinking_Water  \t4 \t0.30 % \n",
      "Sports_Drinking_Water ->  Forks             \t3 \t0.22 % \n",
      "decorative_tray  ->  Puffed_Snacks     \t3 \t0.22 % \n",
      "decorative_tray  ->  Figs              \t3 \t0.22 % \n",
      "Carpet_Cleaners  ->  Forks             \t3 \t0.22 % \n",
      "pasta_bowl       ->  Oatmeal_box       \t3 \t0.22 % \n",
      "Puffed_Snacks    ->  Forks             \t3 \t0.22 % \n",
      "Oatmeal_box      ->  Sports_Drinking_Water  \t3 \t0.22 % \n",
      "Sports_Drinking_Water ->  Figs              \t2 \t0.15 % \n",
      "Figs             ->  decorative_tray   \t2 \t0.15 % \n",
      "Puffed_Snacks    ->  Sports_Drinking_Water  \t2 \t0.15 % \n",
      "Figs             ->  Sports_Drinking_Water  \t2 \t0.15 % \n",
      "Figs             ->  Carpet_Cleaners   \t2 \t0.15 % \n",
      "Carpet_Cleaners  ->  Puffed_Snacks     \t2 \t0.15 % \n",
      "pasta_bowl       ->  Forks             \t2 \t0.15 % \n",
      "Puffed_Snacks    ->  pasta_bowl        \t1 \t0.07 % \n",
      "Forks            ->  pasta_bowl        \t1 \t0.07 % \n",
      "Figs             ->  pasta_bowl        \t1 \t0.07 % \n",
      "Sports_Drinking_Water ->  decorative_tray   \t1 \t0.07 % \n",
      "decorative_tray  ->  Forks             \t1 \t0.07 % \n",
      "Figs             ->  Oatmeal_box       \t1 \t0.07 % \n",
      "Carpet_Cleaners  ->  decorative_tray   \t1 \t0.07 % \n",
      "Oatmeal_box      ->  Forks             \t1 \t0.07 % \n",
      "decorative_tray  ->  Carpet_Cleaners   \t1 \t0.07 % \n"
     ]
    },
    {
     "data": {
      "text/plain": [
       "<AxesSubplot:title={'center':'Confusion Matrix'}, xlabel='Predicted label', ylabel='True label'>"
      ]
     },
     "execution_count": 13,
     "metadata": {},
     "output_type": "execute_result"
    },
    {
     "data": {
      "image/png": "[encoded data removed]",
      "text/plain": [
       "<Figure size 432x288 with 2 Axes>"
      ]
     },
     "metadata": {
      "needs_background": "light"
     },
     "output_type": "display_data"
    }
   ],
   "source": [
    "test_dir=pathlib.Path('output/test')\n",
    "\n",
    "test_generator = test_datagen.flow_from_directory(\n",
    "    directory=test_dir,\n",
    "    target_size=(img_height, img_width),\n",
    "    color_mode=\"rgb\",\n",
    "    batch_size=batch_size,\n",
    "    class_mode=\"categorical\",\n",
    "    shuffle=False,\n",
    ")\n",
    "\n",
    "preds = transfer_model.predict(test_generator,verbose=1,steps=val_steps)\n",
    "\n",
    "Ypred = np.argmax(preds, axis=1)\n",
    "Ytest = test_generator.classes  # shuffle=False in test_generator\n",
    "\n",
    "print(classification_report(Ytest, Ypred, labels=None, target_names=classnames, digits=3))\n",
    "\n",
    "cm = confusion_matrix(Ytest, Ypred)\n",
    "\n",
    "conf = [] # data structure for confusions: list of (i,j,cm[i][j])\n",
    "for i in range(0,cm.shape[0]):\n",
    "  for j in range(0,cm.shape[1]):\n",
    "    if (i!=j and cm[i][j]>0):\n",
    "      conf.append([i,j,cm[i][j]])\n",
    "\n",
    "col=2\n",
    "conf = np.array(conf)\n",
    "conf = conf[np.argsort(-conf[:,col])]  # decreasing order by 3-rd column (i.e., cm[i][j])\n",
    "\n",
    "print('%-16s     %-16s  \\t%s \\t%s ' %('True','Predicted','errors','err %'))\n",
    "print('------------------------------------------------------------------')\n",
    "for k in conf:\n",
    "  print('%-16s ->  %-16s  \\t%d \\t%.2f %% ' %(classnames[k[0]],classnames[k[1]],k[2],k[2]*100.0/test_generator.n))\n",
    "\n",
    "plot_confusion_matrix(Ytest,Ypred, classes=classnames)"
   ]
  },
  {
   "cell_type": "code",
   "execution_count": null,
   "metadata": {},
   "outputs": [],
   "source": []
  }
 ],
 "metadata": {
  "kernelspec": {
   "display_name": "Python 3",
   "language": "python",
   "name": "python3"
  },
  "language_info": {
   "codemirror_mode": {
    "name": "ipython",
    "version": 3
   },
   "file_extension": ".py",
   "mimetype": "text/x-python",
   "name": "python",
   "nbconvert_exporter": "python",
   "pygments_lexer": "ipython3",
   "version": "3.8.5"
  }
 },
 "nbformat": 4,
 "nbformat_minor": 4
}
